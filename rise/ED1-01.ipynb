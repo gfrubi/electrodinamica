{
 "cells": [
  {
   "cell_type": "markdown",
   "id": "3cf84f7c",
   "metadata": {
    "slideshow": {
     "slide_type": "slide"
    }
   },
   "source": [
    "# Electrostática"
   ]
  },
  {
   "cell_type": "markdown",
   "id": "d23fb569",
   "metadata": {
    "slideshow": {
     "slide_type": "fragment"
    }
   },
   "source": [
    "## Ley de Coulomb (1875)\n",
    "\n",
    "- \"Directamente proporcional al producto de las cargas e inversamente proporcional al cuadrado de la distancia\"\n",
    "\\begin{equation}\n",
    "F_i\\propto \\underbrace{\\frac{qq'}{\\left\\vert \\vec{x}-\\vec{x}'\\right\\vert^2}}_\\text{magnitud}\\cdot\n",
    "\\underbrace{\\frac{x_i-x_i'}{\\left\\vert \\vec{x}-\\vec{x}'\\right\\vert }}_\\text{vector unitario}.\n",
    "\\end{equation}"
   ]
  },
  {
   "cell_type": "markdown",
   "id": "6b840aa4",
   "metadata": {},
   "source": [
    "\\begin{equation}\n",
    "\\boxed{F_i=\\frac{qq'}{4\\pi\\varepsilon_0}\\frac{\\left(  x_i-x_i^{\\prime\n",
    "}\\right)  }{\\left\\vert \\vec x-\\vec x'\\right\\vert ^3}.}\\label{leycoulomb}%\n",
    "\\end{equation}"
   ]
  },
  {
   "cell_type": "markdown",
   "id": "5f9732bb",
   "metadata": {
    "slideshow": {
     "slide_type": "fragment"
    }
   },
   "source": [
    "Con la *permitividad del vacío*: $\\varepsilon _0\\approx 8.854\\times 10^{-12}\\,C^2N^{-1}m^{-2}$"
   ]
  },
  {
   "cell_type": "markdown",
   "id": "cd46d3a9",
   "metadata": {
    "slideshow": {
     "slide_type": "slide"
    }
   },
   "source": [
    "## Principio de superposición\n",
    "\n",
    "- 0D (cargas puntuales)\n",
    "\\begin{equation}\n",
    "F_i   =\\sum_{\\alpha=1}^{N}\\frac{qq^{(\\alpha)}}{4\\pi\\varepsilon_0}\\frac{\\left(\n",
    "x_i-x^{(\\alpha)}_i\\right)  }{\\left\\vert  \\vec x-\\vec x^{(\\alpha)}\\right\\vert^3}\n",
    "=\\frac{q}{4\\pi\\varepsilon_0}\\sum_{\\alpha=1}^{N}q^{(\\alpha)}\\frac{\\left(\n",
    "x_i-x^{(\\alpha)}_i\\right) }{\\left\\vert  \\vec x-\\vec x^{(\\alpha)}\\right\\vert^3}.\n",
    "\\end{equation}\n",
    "\n",
    "- 3D (distribución volumétrica)\n",
    "\\begin{equation}\n",
    "F_i  = \\int_V dF_i  =\\int_V\\frac{q}{4\\pi\\varepsilon_0}\\frac{\\left(  x_i-x_i^{\\prime}\\right)}{\\left\\vert \\vec x-\\vec x'\\right\\vert ^3}dq^{\\prime}\n",
    "= \\frac{q}{4\\pi\\varepsilon_0}\\int_V\\rho(x')\\frac{\\left(x_i-x_i'\\right)}{\\left\\vert \\vec x-\\vec x'\\right\\vert^3}dV' .\n",
    "\\end{equation}\n",
    "\n"
   ]
  },
  {
   "cell_type": "markdown",
   "id": "a4bfeb7f",
   "metadata": {
    "slideshow": {
     "slide_type": "slide"
    }
   },
   "source": [
    "### Principio de superposición\n",
    "\n",
    "- 2D (distribución superficial)\n",
    "\\begin{equation}\n",
    "\\int_V \\rho(\\vec x')\\,dV' \\rightarrow \\int_S \\sigma(\\vec x')\\,dS'\n",
    "\\end{equation}\n",
    "\n",
    "- 1D (distribución lineal)\n",
    "\\begin{equation}\n",
    "\\int_V \\rho(\\vec x')\\,dV' \\rightarrow \\int_{\\cal C} \\lambda (\\vec x')\\,d\\ell'\n",
    "\\end{equation}"
   ]
  },
  {
   "cell_type": "markdown",
   "id": "7179639e",
   "metadata": {
    "slideshow": {
     "slide_type": "fragment"
    }
   },
   "source": [
    "### Distribuciones de carga\n",
    "\n",
    "- Preferiremos la descripción de la distribución de cargas en términos de la densidad volumétrica $\\rho(\\vec{x})$\n",
    "- A partir de ella podemos recobrar rápidamente los otros casos de interés. \n",
    "- Por ejemplo, para un conjunto de cargas puntuales, si consideramos\n",
    "\\begin{equation}\n",
    "\\rho(\\vec x)=\\sum_{\\alpha=1}^{N}q^{(\\alpha)}\\delta^{(3)}\\left(\\vec x-\\vec\n",
    "x^{(\\alpha)}\\right).\n",
    "\\label{conti-discre}\n",
    "\\end{equation}\n"
   ]
  },
  {
   "cell_type": "markdown",
   "id": "31629697",
   "metadata": {
    "slideshow": {
     "slide_type": "slide"
    }
   },
   "source": [
    "### Ejemplo, carga distribuida en un paralelepípedo de altura $h$ y límite $h\\to 0$\n",
    "$$\n",
    "\\rho(z) =\\left\\{\\begin{array}{cc}\n",
    "                \\sigma/h, & |z|<h/2 \\\\\n",
    "                0, & |z|>h/2 \n",
    "                \\end{array}\\right.\n",
    "$$\n",
    "\n",
    "$$\n",
    "\\int_{-\\infty}^\\infty \\rho(z)\\rho(z)\\,dz =  \\int_{-h/2}^{+h/2} \\frac{\\sigma}{h}\\,dz = \\sigma\n",
    "$$\n",
    "\n",
    "En el límite $h\\to 0$ obtendremos\n",
    "$$\n",
    "\\rho(z)\\to \\sigma\\delta(z)\n",
    "$$"
   ]
  },
  {
   "cell_type": "code",
   "execution_count": 2,
   "id": "bb97ab42",
   "metadata": {
    "slideshow": {
     "slide_type": "slide"
    }
   },
   "outputs": [],
   "source": [
    "import numpy as np\n",
    "import matplotlib.pyplot as plt\n",
    "plt.style.use('bmh')\n",
    "from ipywidgets import interact\n",
    "\n",
    "sigma = 1\n",
    "z = np.linspace(-1.1,1.1,1000)\n",
    "def rho(z,h=1):\n",
    "    if abs(z)<= h/2:\n",
    "        return sigma/h\n",
    "    else:\n",
    "        return 0\n",
    "\n",
    "rho_v = np.vectorize(rho)\n",
    "def g(h):\n",
    "    plt.plot(z,rho_v(z,h))\n",
    "    plt.ylim(-1,20*sigma)\n",
    "    plt.xlabel('$z$')\n",
    "    plt.ylabel('$\\\\rho(z)$')\n",
    "    plt.grid(True)"
   ]
  },
  {
   "cell_type": "code",
   "execution_count": 3,
   "id": "0eceb4a4",
   "metadata": {
    "slideshow": {
     "slide_type": "subslide"
    }
   },
   "outputs": [
    {
     "data": {
      "application/vnd.jupyter.widget-view+json": {
       "model_id": "c6a7045130674dffb04cf5a2a9c015b6",
       "version_major": 2,
       "version_minor": 0
      },
      "text/plain": [
       "interactive(children=(FloatSlider(value=0.5, description='h', max=1.0, min=0.01, step=0.01), Output()), _dom_c…"
      ]
     },
     "metadata": {},
     "output_type": "display_data"
    },
    {
     "data": {
      "text/plain": [
       "<function __main__.g(h)>"
      ]
     },
     "execution_count": 3,
     "metadata": {},
     "output_type": "execute_result"
    }
   ],
   "source": [
    "interact(g,h=(0.01,1,0.01))"
   ]
  },
  {
   "cell_type": "markdown",
   "id": "e1921cec",
   "metadata": {
    "slideshow": {
     "slide_type": "slide"
    }
   },
   "source": [
    "## Campo eléctrico\n",
    "\n",
    "\\begin{equation}\n",
    "E_i(\\vec x):=\\lim_{q\\rightarrow0}\\frac{F_i}{q}.\n",
    "\\end{equation}\n",
    "\n",
    "Aquí $q$ es un \"carga de prueba\": carga muy pequeña espacialmente (puntual) + carga muy pequeña ($q\\to 0$). Esto permite interpretar el (límite) del cuociente como el **campo generado por la distribución de densidad $\\rho$**, sin ser perturbada por la carga que experimenta la fuerza $\\vec{F}$.\n",
    "\n",
    "Para una distribución volumétrica de cargas:\n",
    "\\begin{equation}\n",
    "\\boxed{E_i(\\vec x)=\\frac{1}{4\\pi\\varepsilon_0}\\int_V\\rho(x')\\frac{\\left(\n",
    "x_i-x_i'\\right)  }{\\left\\vert \\vec x-\\vec x'\\right\\vert\n",
    "^3}dV'.} \\label{cerho}\n",
    "\\end{equation}"
   ]
  },
  {
   "cell_type": "markdown",
   "id": "dd4c79b9",
   "metadata": {
    "slideshow": {
     "slide_type": "fragment"
    }
   },
   "source": [
    "En el caso idealizado de un conjunto de cargas puntuales $q^{(\\alpha)}$, tendremos\n",
    "\\begin{equation}\n",
    "E_i(\\vec x)=\\frac{1}{4\\pi\\varepsilon_0}\\sum_{\\alpha=1\n",
    "}^{N}q^{(\\alpha)}\\frac{\\left(  x_i-x^{(\\alpha)}_i\\right)  }{\\left\\vert\n",
    "\\vec x-\\vec x^{(\\alpha)}\\right\\vert ^3}.\\label{campelectr}\n",
    "\\end{equation}"
   ]
  },
  {
   "cell_type": "markdown",
   "id": "a584faec",
   "metadata": {
    "slideshow": {
     "slide_type": "slide"
    }
   },
   "source": [
    "### Campo eléctrico de barra con carga uniforme: cálculo numérico\n",
    "\n",
    "Original de [Rhett Allain](https://mastodon.social/@rhettallain): [Link a trinket.io](https://trinket.io/embed/glowscript/839f5b9fa6?start=result)\n",
    "\n",
    "\n"
   ]
  },
  {
   "cell_type": "code",
   "execution_count": 11,
   "id": "cb53236a",
   "metadata": {
    "slideshow": {
     "slide_type": "fragment"
    }
   },
   "outputs": [
    {
     "data": {
      "text/html": [
       "<iframe src=\"https://trinket.io/embed/glowscript/839f5b9fa6?start=result\" width=\"90%\" height=\"500\" frameborder=\"0\" marginwidth=\"0\" marginheight=\"0\" allowfullscreen></iframe>\n"
      ],
      "text/plain": [
       "<IPython.core.display.HTML object>"
      ]
     },
     "metadata": {},
     "output_type": "display_data"
    }
   ],
   "source": [
    "%%HTML\n",
    "<iframe src=\"https://trinket.io/embed/glowscript/839f5b9fa6?start=result\" width=\"90%\" height=\"500\" frameborder=\"0\" marginwidth=\"0\" marginheight=\"0\" allowfullscreen></iframe>"
   ]
  },
  {
   "cell_type": "markdown",
   "id": "8f030fb1",
   "metadata": {
    "slideshow": {
     "slide_type": "slide"
    }
   },
   "source": [
    "### Líneas de campo eléctrico\n",
    "- Es útil introducir el concepto de **líneas de campo eléctrico**\n",
    "- Cada una de estas curvas, puede modelarse usando una parametrización de la forma $x^{\\rm c}_i=x^{\\rm c}_i(\\lambda)$, \n",
    "donde $\\lambda$ es un parámetro real. \n",
    "- Las líneas de campo son definidas como aquellas tales que *sus vectores tangentes en cada punto son paralelos al vector campo eléctrico*. \n",
    "- Esto es equivalente a la condición,\n",
    "\\begin{equation}\n",
    "\\boxed{\\frac{dx^{\\rm c}_i}{d\\lambda}(\\lambda)=\\alpha(\\lambda)E_i(\\vec{x}_{\\rm c}(\\lambda)), \\qquad \\alpha(\\lambda)>0}\n",
    "\\end{equation}\n",
    "\n",
    "- La función $\\alpha(\\lambda)$ puede siempre ser \"normalizada'' al valor $1$ redefiniendo convenientemente el parámetro para describir la curva.\n"
   ]
  },
  {
   "cell_type": "markdown",
   "id": "5b3e649a",
   "metadata": {
    "slideshow": {
     "slide_type": "slide"
    }
   },
   "source": [
    "### Líneas de campo eléctrico\n",
    "- P. ej., en coordenadas cartesianas y en tres dimensiones, las EDO's son:\n",
    "\\begin{align}\n",
    "\\frac{dx_{\\rm c}}{d\\lambda}(\\lambda) &= {E_x}(x_{\\rm c}(\\lambda),y_{\\rm c}(\\lambda),z_{\\rm c}(\\lambda)), \\\\\n",
    "\\frac{dy_{\\rm c}}{d\\lambda}(\\lambda) &= {E_y}(x_{\\rm c}(\\lambda),y_{\\rm c}(\\lambda),z_{\\rm c}(\\lambda)),\\\\\n",
    "\\frac{dz_{\\rm c}}{d\\lambda}(\\lambda) &= E_z(x_{\\rm c}(\\lambda),y_{\\rm c}(\\lambda),z_{\\rm c}(\\lambda)),\n",
    "\\end{align}\n",
    "\n",
    "- Dadas las componentes del campo $E_x(x,y,z)$, $E_y(x,y,z)$ y $E_y(x,y,z)$ esto define un sistema de 3-EDO-A-NL-1o \n",
    "para $x_{\\rm c}(\\lambda),y_{\\rm c}(\\lambda)$ y $z_{\\rm c}(\\lambda)$.\n",
    "\n",
    "- Una línea de campo particular queda determinada por la solución del sistema de ecuaciones que satisface una determinada condición inicial\n",
    "- P. ej. $\\vec{x}(0)=\\vec{x}_0$, donde $\\vec{x}_0$ es un punto dado del espacio. La solución $\\vec{x}(\\lambda;\\vec{x}_0)$ describirá la línea de campo que pasa por el punto $\\vec{x}_0$.\n"
   ]
  },
  {
   "cell_type": "markdown",
   "id": "dc44eb66",
   "metadata": {
    "slideshow": {
     "slide_type": "slide"
    }
   },
   "source": [
    "<img src=\"./fig/fig-E-01.png\" width=\"400\"/><img src=\"./fig/fig-E-02.png\" width=\"400\"/>\n",
    "\n",
    "<img src=\"./fig/fig-E-03.png\" width=\"400\"/>"
   ]
  },
  {
   "cell_type": "markdown",
   "id": "d60747b4",
   "metadata": {
    "slideshow": {
     "slide_type": "slide"
    }
   },
   "source": [
    "### Potencial eléctrico\n",
    "Usando la identidad \n",
    "\\begin{equation}\n",
    "\\frac{x_i-x_i'}{\\left\\vert \\vec x-\\vec x'\\right\\vert ^3}\\equiv\n",
    "-\\partial_i\\left( \\frac{1}{\\left\\vert \\vec x-\\vec x'\\right\\vert\n",
    "}\\right), \\label{id01}\n",
    "\\end{equation}\n",
    "podemos escribir \n",
    "\\begin{align}\n",
    "E_i  & =\\frac{1}{4\\pi\\varepsilon_0}\\int_V\\rho(x')\\frac{\\left(x_i-x_i'\\right)\n",
    "}{\\left\\vert \\vec x-\\vec x'\\right\\vert^3} dV' \\\\\n",
    "&\n",
    "=-\\frac{1}{4\\pi\\varepsilon_0}\\int_V\\rho(x')\\partial_i\\left(\\frac{1}{\\left\\vert\n",
    "\\vec x-\\vec x'\\right\\vert }\\right)  dV' \\label{ein}\\\\\n",
    "& =-\\partial_i\\left[\\frac{1}{4\\pi\\varepsilon_0}\\int_V\\frac{\\rho\n",
    "(x')}{\\left\\vert \\vec x-\\vec x'\\right\\vert }dV'\\right] \\\\\n",
    "& =-\\partial_i\\phi ,\n",
    "\\end{align}\n"
   ]
  },
  {
   "cell_type": "markdown",
   "id": "795e5f79",
   "metadata": {
    "slideshow": {
     "slide_type": "slide"
    }
   },
   "source": [
    "### Potencial eléctrico\n",
    "\n",
    "\\begin{equation}\n",
    "\\boxed{\\vec{E}(x)=-\\vec\\nabla\\phi (x),} \\label{E=nablaphi}\n",
    "\\end{equation}\n",
    "donde hemos definido el **potencial eléctrico** $\\phi(\\vec x)$ por\n",
    "\\begin{equation}\n",
    "\\boxed{\\phi(\\vec x):=\\frac{1}{4\\pi\\varepsilon_0}\\int_V\\frac{\\rho(\\vec x')}{\n",
    "\\left\\vert \\vec x-\\vec x'\\right\\vert }dV' +\\text{constante}.}\\label{perho}\n",
    "\\end{equation}\n",
    "\n",
    "- Siempre es posible agregar una constante arbitraria a la definición del potencial. \n",
    "- Es directo verificar que todo campo eléctrostático es irrotacional, es decir, su rotor es nulo:\n",
    "\\begin{equation}\n",
    "\\boxed{\\vec\\nabla\\times\\vec{E}=\\vec{0}.} \\label{rotE0}\n",
    "\\end{equation}"
   ]
  },
  {
   "cell_type": "markdown",
   "id": "2c70e875",
   "metadata": {
    "slideshow": {
     "slide_type": "slide"
    }
   },
   "source": [
    "### Potencial eléctrico y campo eléctrico\n",
    "\n",
    "- Podemos expresar el potencial electrostático como una integral de línea del campo eléctrico:\n",
    "\\begin{equation}\n",
    " \\boxed{\\phi(\\vec{x})=\\phi(\\vec{x}_0)-\\int_{\\vec{x}_0}^{\\vec{x}} \\vec{E}\\cdot d\\vec{x}.} \\label{phiintE}\n",
    "\\end{equation}\n",
    "\n",
    "- La integral anterior es independiente de la trayectoria que une los puntos $\\vec{x}_0$ y $\\vec{x}$, o equivalentemente,\n",
    "\\begin{equation}\n",
    " \\boxed{\\oint_{\\cal C}\\vec{E}\\cdot d\\vec{x}=0,\\quad \\forall \\text{ curva cerrada } \\cal C}\n",
    "\\end{equation}"
   ]
  },
  {
   "cell_type": "markdown",
   "id": "105ac79b",
   "metadata": {
    "slideshow": {
     "slide_type": "slide"
    }
   },
   "source": [
    "### No hay líneas de campo eléctrico cerradas\n",
    "\n",
    "- Si existiese una línea de campo eléctrico cerrada ${\\cal C}$, entonces podemos evaluar $\\oint_{\\cal C}\\vec{E}\\cdot d\\vec{x}$ (la \"circulación del campo $\\vec{E}$\") sobre esta curva. Pero \n",
    "\\begin{align}\n",
    "\\oint_{\\cal C}\\vec{E}\\cdot d\\vec{x} &= \\oint_{\\cal C}\\frac{d\\vec{x}}{d\\lambda}\\cdot d\\vec{x} \\\\\n",
    "&= \\oint_{\\cal C}\\frac{d\\vec{x}}{d\\lambda}\\cdot \\frac{d\\vec{x}}{d\\lambda}\\,d\\lambda \\\\\n",
    "&= \\oint_{\\cal C}\\left|\\frac{d\\vec{x}}{d\\lambda}\\right|^2 d\\lambda \\\\\n",
    "&>0 ,\n",
    "\\end{align}\n",
    "en contradicción con lo anterior.\n",
    "\n",
    "- $\\vec{E}$ es siempre *normal a las superficies equipotenciales* (aquellos puntos que satisfacen $\\phi(\\vec{x})=\\text{cte.}$) y su *sentido es siempre hacia regiones de menor potencial*.\n"
   ]
  }
 ],
 "metadata": {
  "celltoolbar": "Slideshow",
  "kernelspec": {
   "display_name": "Python 3 (ipykernel)",
   "language": "python",
   "name": "python3"
  },
  "language_info": {
   "codemirror_mode": {
    "name": "ipython",
    "version": 3
   },
   "file_extension": ".py",
   "mimetype": "text/x-python",
   "name": "python",
   "nbconvert_exporter": "python",
   "pygments_lexer": "ipython3",
   "version": "3.10.12"
  }
 },
 "nbformat": 4,
 "nbformat_minor": 5
}
